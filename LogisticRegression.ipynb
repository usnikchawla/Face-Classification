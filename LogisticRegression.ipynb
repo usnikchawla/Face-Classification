{
  "nbformat": 4,
  "nbformat_minor": 0,
  "metadata": {
    "colab": {
      "provenance": []
    },
    "kernelspec": {
      "name": "python3",
      "display_name": "Python 3"
    },
    "language_info": {
      "name": "python"
    }
  },
  "cells": [
    {
      "cell_type": "code",
      "execution_count": 5,
      "metadata": {
        "id": "AdzFuraMDDdL"
      },
      "outputs": [],
      "source": [
        "import numpy as np\n",
        "import pandas as pd\n",
        "from sklearn.model_selection import train_test_split\n",
        "from sklearn.svm import SVC\n",
        "from sklearn.metrics import confusion_matrix\n",
        "from sklearn.model_selection import validation_curve\n",
        "from sklearn.model_selection import KFold\n",
        "from sklearn.model_selection import cross_val_score\n",
        "from sklearn.model_selection import GridSearchCV\n",
        "import matplotlib.pyplot as plt\n",
        "import seaborn as sns\n",
        "from sklearn.decomposition import PCA\n",
        "from sklearn.preprocessing import StandardScaler\n",
        "from sklearn.discriminant_analysis import LinearDiscriminantAnalysis\n",
        "from sklearn.linear_model import LogisticRegression\n",
        "from sklearn import metrics"
      ]
    },
    {
      "cell_type": "code",
      "source": [
        "train_data = pd.read_csv(\"/content/data/mnist_train.csv\")"
      ],
      "metadata": {
        "id": "B8wZVCAsEW4o"
      },
      "execution_count": 6,
      "outputs": []
    },
    {
      "cell_type": "code",
      "source": [
        "from scipy.sparse.linalg.eigen import test\n",
        "dimensions=[10,25,50]\n",
        "train_errors=[]\n",
        "test_errors=[]\n",
        "for i in dimensions:\n",
        "\n",
        "  y_train=train_data.iloc[:,0]\n",
        "  x_train=train_data.iloc[:,1:785]\n",
        "  x_train = x_train/255.0\n",
        "  x=StandardScaler().fit_transform(x_train)\n",
        "  pca=PCA(i)\n",
        "  x=pca.fit_transform(x)\n",
        "\n",
        "  X_train, X_test, y_train, y_test = train_test_split(x, y_train, test_size = 0.2, train_size = 0.3 ,random_state = 10)\n",
        "  logisticRegr = LogisticRegression(solver = 'lbfgs')\n",
        "  logisticRegr.fit(X_train, y_train)\n",
        "  y_pred_test = logisticRegr.predict(X_test)\n",
        "  y_pred_train = logisticRegr.predict(X_train)\n",
        "  test_error=metrics.accuracy_score(y_true=y_test, y_pred=y_pred_test)\n",
        "  train_error=metrics.accuracy_score(y_true=y_train, y_pred=y_pred_train)\n",
        "  print(\"accuracy test:\", test_error)\n",
        "  print(\"accuracy train:\",  train_error)\n",
        "  test_errors.append(test_error)\n",
        "  train_errors.append(train_error)\n",
        "\n",
        "plt.plot(dimensions,train_errors,color='blue',label='train_error')\n",
        "plt.plot(dimensions,test_errors,color='red',label='test_error')\n",
        "plt.title(\"Logistic Regression with PCA\")\n",
        "plt.legend()"
      ],
      "metadata": {
        "colab": {
          "base_uri": "https://localhost:8080/",
          "height": 819
        },
        "id": "qBfv9qwZr5E0",
        "outputId": "15f5b7f6-8ec7-4173-a3cb-349bc7477389"
      },
      "execution_count": 7,
      "outputs": [
        {
          "output_type": "stream",
          "name": "stderr",
          "text": [
            "/usr/local/lib/python3.8/dist-packages/sklearn/linear_model/_logistic.py:814: ConvergenceWarning: lbfgs failed to converge (status=1):\n",
            "STOP: TOTAL NO. of ITERATIONS REACHED LIMIT.\n",
            "\n",
            "Increase the number of iterations (max_iter) or scale the data as shown in:\n",
            "    https://scikit-learn.org/stable/modules/preprocessing.html\n",
            "Please also refer to the documentation for alternative solver options:\n",
            "    https://scikit-learn.org/stable/modules/linear_model.html#logistic-regression\n",
            "  n_iter_i = _check_optimize_result(\n"
          ]
        },
        {
          "output_type": "stream",
          "name": "stdout",
          "text": [
            "accuracy test: 0.80275\n",
            "accuracy train: 0.8032777777777778\n"
          ]
        },
        {
          "output_type": "stream",
          "name": "stderr",
          "text": [
            "/usr/local/lib/python3.8/dist-packages/sklearn/linear_model/_logistic.py:814: ConvergenceWarning: lbfgs failed to converge (status=1):\n",
            "STOP: TOTAL NO. of ITERATIONS REACHED LIMIT.\n",
            "\n",
            "Increase the number of iterations (max_iter) or scale the data as shown in:\n",
            "    https://scikit-learn.org/stable/modules/preprocessing.html\n",
            "Please also refer to the documentation for alternative solver options:\n",
            "    https://scikit-learn.org/stable/modules/linear_model.html#logistic-regression\n",
            "  n_iter_i = _check_optimize_result(\n"
          ]
        },
        {
          "output_type": "stream",
          "name": "stdout",
          "text": [
            "accuracy test: 0.8804166666666666\n",
            "accuracy train: 0.8809444444444444\n",
            "accuracy test: 0.9028333333333334\n",
            "accuracy train: 0.9081666666666667\n"
          ]
        },
        {
          "output_type": "stream",
          "name": "stderr",
          "text": [
            "/usr/local/lib/python3.8/dist-packages/sklearn/linear_model/_logistic.py:814: ConvergenceWarning: lbfgs failed to converge (status=1):\n",
            "STOP: TOTAL NO. of ITERATIONS REACHED LIMIT.\n",
            "\n",
            "Increase the number of iterations (max_iter) or scale the data as shown in:\n",
            "    https://scikit-learn.org/stable/modules/preprocessing.html\n",
            "Please also refer to the documentation for alternative solver options:\n",
            "    https://scikit-learn.org/stable/modules/linear_model.html#logistic-regression\n",
            "  n_iter_i = _check_optimize_result(\n"
          ]
        },
        {
          "output_type": "execute_result",
          "data": {
            "text/plain": [
              "<matplotlib.legend.Legend at 0x7f033fa9f9a0>"
            ]
          },
          "metadata": {},
          "execution_count": 7
        },
        {
          "output_type": "display_data",
          "data": {
            "text/plain": [
              "<Figure size 432x288 with 1 Axes>"
            ],
            "image/png": "[encoded data removed]"
          },
          "metadata": {
            "needs_background": "light"
          }
        }
      ]
    },
    {
      "cell_type": "code",
      "source": [
        "from scipy.sparse.linalg.eigen import test\n",
        "dimensions=[5,7,9]\n",
        "train_errors=[]\n",
        "test_errors=[]\n",
        "for i in dimensions:\n",
        "\n",
        "  y_train=train_data.iloc[:,0]\n",
        "  x_train=train_data.iloc[:,1:785]\n",
        "  x_train = x_train/255.0\n",
        "  lda=LinearDiscriminantAnalysis(n_components=i)\n",
        "  x=lda.fit(x_train,y_train).transform(x_train)\n",
        "  \n",
        "  X_train, X_test, y_train, y_test = train_test_split(x, y_train, test_size = 0.2, train_size = 0.3 ,random_state = 10)\n",
        "  logisticRegr = LogisticRegression(solver = 'lbfgs')\n",
        "  logisticRegr.fit(X_train, y_train)\n",
        "  y_pred_test = logisticRegr.predict(X_test)\n",
        "  y_pred_train = logisticRegr.predict(X_train)\n",
        "  test_error=metrics.accuracy_score(y_true=y_test, y_pred=y_pred_test)\n",
        "  train_error=metrics.accuracy_score(y_true=y_train, y_pred=y_pred_train)\n",
        "  print(\"accuracy test:\", test_error)\n",
        "  print(\"accuracy train:\",  train_error)\n",
        "  test_errors.append(test_error)\n",
        "  train_errors.append(train_error)\n",
        "\n",
        "plt.plot(dimensions,train_errors,color='blue',label='train_error')\n",
        "plt.plot(dimensions,test_errors,color='red',label='test_error')\n",
        "plt.title(\"Logistic Regression with MDA\")\n",
        "plt.legend()"
      ],
      "metadata": {
        "colab": {
          "base_uri": "https://localhost:8080/",
          "height": 403
        },
        "id": "cjDZuJGetAdx",
        "outputId": "e5de4869-4971-42ec-e928-c6eff38810ce"
      },
      "execution_count": 8,
      "outputs": [
        {
          "output_type": "stream",
          "name": "stdout",
          "text": [
            "accuracy test: 0.8343333333333334\n",
            "accuracy train: 0.8365\n",
            "accuracy test: 0.8721666666666666\n",
            "accuracy train: 0.872\n",
            "accuracy test: 0.8908333333333334\n",
            "accuracy train: 0.8938888888888888\n"
          ]
        },
        {
          "output_type": "execute_result",
          "data": {
            "text/plain": [
              "<matplotlib.legend.Legend at 0x7f033f77caf0>"
            ]
          },
          "metadata": {},
          "execution_count": 8
        },
        {
          "output_type": "display_data",
          "data": {
            "text/plain": [
              "<Figure size 432x288 with 1 Axes>"
            ],
            "image/png": "[encoded data removed]"
          },
          "metadata": {
            "needs_background": "light"
          }
        }
      ]
    }
  ]
}